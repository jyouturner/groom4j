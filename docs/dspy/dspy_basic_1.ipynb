{
 "cells": [
  {
   "cell_type": "code",
   "execution_count": 2,
   "id": "d89c463c-e9ef-4722-9ea6-a332669c5686",
   "metadata": {},
   "outputs": [
    {
     "name": "stdout",
     "output_type": "stream",
     "text": [
      "\n",
      "\u001b[1m[\u001b[0m\u001b[34;49mnotice\u001b[0m\u001b[1;39;49m]\u001b[0m\u001b[39;49m A new release of pip is available: \u001b[0m\u001b[31;49m23.1.2\u001b[0m\u001b[39;49m -> \u001b[0m\u001b[32;49m24.0\u001b[0m\n",
      "\u001b[1m[\u001b[0m\u001b[34;49mnotice\u001b[0m\u001b[1;39;49m]\u001b[0m\u001b[39;49m To update, run: \u001b[0m\u001b[32;49mpip3 install --upgrade pip\u001b[0m\n"
     ]
    }
   ],
   "source": [
    "!pip3 install --quiet openai python-dotenv dspy-ai"
   ]
  },
  {
   "cell_type": "code",
   "execution_count": null,
   "id": "cc305cf0-33c7-40cc-90ee-a25f30bc6772",
   "metadata": {},
   "outputs": [],
   "source": [
    "!pip3 install --quiet arize-phoenix openinference-instrumentation-dspy opentelemetry-exporter-otlp"
   ]
  },
  {
   "cell_type": "markdown",
   "id": "db647815-cbc0-43e1-8737-629992159813",
   "metadata": {},
   "source": [
    "## Launch Arize Phoenix ##"
   ]
  },
  {
   "cell_type": "code",
   "execution_count": 11,
   "id": "08a1c110-bc0b-4a10-9caa-87551040e6b0",
   "metadata": {},
   "outputs": [
    {
     "name": "stdout",
     "output_type": "stream",
     "text": [
      "🌍 To view the Phoenix app in your browser, visit http://localhost:6006/\n",
      "📺 To view the Phoenix app in a notebook, run `px.active_session().view()`\n",
      "📖 For more information on how to use Phoenix, check out https://docs.arize.com/phoenix\n"
     ]
    },
    {
     "data": {
      "text/plain": [
       "<phoenix.session.session.ThreadSession at 0x287da6810>"
      ]
     },
     "execution_count": 11,
     "metadata": {},
     "output_type": "execute_result"
    }
   ],
   "source": [
    "import phoenix as px\n",
    "\n",
    "px.launch_app()"
   ]
  },
  {
   "cell_type": "markdown",
   "id": "cf9449f5-003d-48b6-ac10-8559f0ecaa9d",
   "metadata": {},
   "source": [
    "## Set up Phoenix instrumentor ##"
   ]
  },
  {
   "cell_type": "code",
   "execution_count": 14,
   "id": "561c0bf7-64a3-45ed-a021-ce7e0baf3da7",
   "metadata": {},
   "outputs": [],
   "source": [
    "from openinference.instrumentation.dspy import DSPyInstrumentor\n",
    "from opentelemetry import trace as trace_api\n",
    "from opentelemetry.exporter.otlp.proto.http.trace_exporter import OTLPSpanExporter\n",
    "from opentelemetry.sdk import trace as trace_sdk\n",
    "from opentelemetry.sdk.resources import Resource\n",
    "from opentelemetry.sdk.trace.export import SimpleSpanProcessor\n",
    "\n",
    "endpoint = \"http://127.0.0.1:6006/v1/traces\"\n",
    "resource = Resource(attributes={})\n",
    "tracer_provider = trace_sdk.TracerProvider(resource=resource)\n",
    "span_otlp_exporter = OTLPSpanExporter(endpoint=endpoint)\n",
    "tracer_provider.add_span_processor(SimpleSpanProcessor(span_exporter=span_otlp_exporter))\n",
    "trace_api.set_tracer_provider(tracer_provider=tracer_provider)\n",
    "DSPyInstrumentor().instrument()"
   ]
  },
  {
   "cell_type": "markdown",
   "id": "50e2aed8-cb79-4127-8824-fb9d74dff8a8",
   "metadata": {},
   "source": [
    "## Hello World ##"
   ]
  },
  {
   "cell_type": "code",
   "execution_count": 35,
   "id": "071f4329-1d74-4cea-9575-56473a82c7c0",
   "metadata": {},
   "outputs": [],
   "source": [
    "import dspy, os\n",
    "import getpass\n",
    "os.environ[\"OPENAI_API_KEY\"] = getpass.getpass(\"OpenAI API Key:\")\n",
    "lm = dspy.OpenAI(model=\"gpt-3.5-turbo\", max_tokens=4000)\n",
    "dspy.settings.configure(lm=lm)"
   ]
  },
  {
   "cell_type": "code",
   "execution_count": 36,
   "id": "6909cdf1-9b8e-41ca-910e-d14305679edf",
   "metadata": {},
   "outputs": [
    {
     "name": "stdout",
     "output_type": "stream",
     "text": [
      "Prediction(\n",
      "    answer='Hello! How can I assist you today?'\n",
      ")\n"
     ]
    }
   ],
   "source": [
    "predictor = dspy.Predict(\"question -> answer\")\n",
    "print(predictor(question=\"hello?\"))"
   ]
  },
  {
   "cell_type": "markdown",
   "id": "674e9d89-cf5c-478a-bcdd-d54b59e30938",
   "metadata": {},
   "source": [
    "**What is happening?**\n",
    "![hello](./tracing_hello.jpg)"
   ]
  },
  {
   "cell_type": "code",
   "execution_count": 41,
   "id": "1b641545-3563-49ad-b38a-3c555aa44c34",
   "metadata": {},
   "outputs": [
    {
     "name": "stdout",
     "output_type": "stream",
     "text": [
      "Prediction(\n",
      "    answer='Paris'\n",
      ")\n"
     ]
    }
   ],
   "source": [
    "print(predictor(question=\"what is the capital city of France?\"))"
   ]
  },
  {
   "cell_type": "markdown",
   "id": "faf3d226-8128-4a7f-aa88-af616de18be9",
   "metadata": {},
   "source": [
    "![france](./tracing_france.jpg)"
   ]
  },
  {
   "cell_type": "markdown",
   "id": "97934df8-a9e0-499f-80ac-48c3abf78e83",
   "metadata": {},
   "source": [
    "**So DSPy can decide the more appropriate prompt based on the question**"
   ]
  },
  {
   "cell_type": "markdown",
   "id": "937843ba-1072-46ac-a865-347a63e8f3bd",
   "metadata": {},
   "source": [
    "## Let's move on to fancy stuff ##"
   ]
  },
  {
   "cell_type": "markdown",
   "id": "b8eeb795-df66-451e-adba-edb25ca257bd",
   "metadata": {},
   "source": [
    "Looking into the \"example\" folder in DSPy, I think the \"BasicQA\" would be a good starting point. And copied over below. \n",
    "\n",
    "However, I changed the \"desc\" from \"\"often between 1 and 5 words\"\" to \"whatever\" because ... I am curious about it"
   ]
  },
  {
   "cell_type": "code",
   "execution_count": 42,
   "id": "57b7a19e-6e08-4486-9fff-6f589eab29df",
   "metadata": {},
   "outputs": [],
   "source": [
    "class BasicQA(dspy.Signature):\n",
    "    question = dspy.InputField()\n",
    "    answer = dspy.OutputField(desc=\"whatever\") # used to be often between 1 and 5 words\"\n",
    "class BasicQABot(dspy.Module):\n",
    "    def __init__(self):\n",
    "        super().__init__()\n",
    "\n",
    "        self.generate = dspy.Predict(BasicQA)\n",
    "\n",
    "    def forward(self,question):\n",
    "        prediction = self.generate(question = question)\n",
    "        return dspy.Prediction(answer = prediction.answer)"
   ]
  },
  {
   "cell_type": "code",
   "execution_count": 43,
   "id": "09ad6699-45bc-48bd-bfa9-5a6f282dbac6",
   "metadata": {},
   "outputs": [
    {
     "data": {
      "text/plain": [
       "'Question: what is the capital city of France??\\nAnswer: Paris'"
      ]
     },
     "execution_count": 43,
     "metadata": {},
     "output_type": "execute_result"
    }
   ],
   "source": [
    "qa_bot = BasicQABot()\n",
    "pred = qa_bot.forward(\"what is the capital city of France??\")\n",
    "pred.answer"
   ]
  },
  {
   "cell_type": "markdown",
   "id": "ecfec562-5fb8-4dde-9908-beb7a1243223",
   "metadata": {},
   "source": [
    "![whatever](./tracing_whatever.jpg)"
   ]
  },
  {
   "cell_type": "markdown",
   "id": "e4891216-8a46-459a-973a-7225e406f32d",
   "metadata": {},
   "source": [
    "So, the desc (\"whatever\") is being used along with the \"answer\" field in the prompt"
   ]
  },
  {
   "cell_type": "markdown",
   "id": "c2a84218-a979-42f4-bdfe-cb8b0233d5f9",
   "metadata": {},
   "source": [
    "**Now let's give it a proper description, like \"the city name\"?**"
   ]
  },
  {
   "cell_type": "code",
   "execution_count": 44,
   "id": "0ba33a8f-8214-4434-8175-b394a0838aa4",
   "metadata": {},
   "outputs": [],
   "source": [
    "class BasicQA(dspy.Signature):\n",
    "    question = dspy.InputField()\n",
    "    answer = dspy.OutputField(desc=\"the city name\")"
   ]
  },
  {
   "cell_type": "code",
   "execution_count": 45,
   "id": "7f499b02-75eb-4b1e-a4a1-a87ef03a71ce",
   "metadata": {},
   "outputs": [
    {
     "data": {
      "text/plain": [
       "'the city name'"
      ]
     },
     "execution_count": 45,
     "metadata": {},
     "output_type": "execute_result"
    }
   ],
   "source": [
    "qa_bot = BasicQABot()\n",
    "pred = qa_bot.forward(\"what is the capital city of France??\")\n",
    "pred.answer"
   ]
  },
  {
   "cell_type": "markdown",
   "id": "32868920-66b2-4238-91b7-47e81e1ed521",
   "metadata": {},
   "source": [
    "![the city name desc](./tracing_desc.jpg)"
   ]
  },
  {
   "cell_type": "markdown",
   "id": "5d5dcd7f-4baf-4e10-8565-fcb5e7908c03",
   "metadata": {},
   "source": [
    "**Ok let's get back to the \"good\" one**"
   ]
  },
  {
   "cell_type": "code",
   "execution_count": 23,
   "id": "3f9e8bc4-c8c5-41fa-b352-feef63e69796",
   "metadata": {},
   "outputs": [],
   "source": [
    "class BasicQA(dspy.Signature):\n",
    "    question = dspy.InputField()\n",
    "    answer = dspy.OutputField(desc=\"often between 1 and 2 words\")"
   ]
  },
  {
   "cell_type": "code",
   "execution_count": 24,
   "id": "23714d64-fefb-42a7-842a-9de0db71772c",
   "metadata": {},
   "outputs": [
    {
     "data": {
      "text/plain": [
       "'Paris'"
      ]
     },
     "execution_count": 24,
     "metadata": {},
     "output_type": "execute_result"
    }
   ],
   "source": [
    "qa_bot = BasicQABot()\n",
    "pred = qa_bot.forward(\"what is the capital city of France??\")\n",
    "pred.answer"
   ]
  },
  {
   "cell_type": "markdown",
   "id": "7caf4a55-21b5-4890-a7c4-d98499ce3304",
   "metadata": {},
   "source": [
    "**But what if we don't specify the desc**"
   ]
  },
  {
   "cell_type": "code",
   "execution_count": 48,
   "id": "0fdb9eab-062b-41bd-8cc3-f9bbbdb85477",
   "metadata": {},
   "outputs": [],
   "source": [
    "class BasicQA(dspy.Signature):\n",
    "    question = dspy.InputField()\n",
    "    answer = dspy.OutputField() # no desc"
   ]
  },
  {
   "cell_type": "code",
   "execution_count": 49,
   "id": "d0b274a6-52c0-4ab5-886b-7afddc26d287",
   "metadata": {},
   "outputs": [
    {
     "data": {
      "text/plain": [
       "'Question: what is the capital city of France??\\nAnswer: Paris'"
      ]
     },
     "execution_count": 49,
     "metadata": {},
     "output_type": "execute_result"
    }
   ],
   "source": [
    "qa_bot = BasicQABot()\n",
    "pred = qa_bot.forward(\"what is the capital city of France??\")\n",
    "pred.answer"
   ]
  },
  {
   "cell_type": "code",
   "execution_count": 50,
   "id": "5ae78893-aa01-4be0-85d3-3eb6c3530a22",
   "metadata": {},
   "outputs": [],
   "source": [
    "class BasicQA(dspy.Signature):\n",
    "    question = dspy.InputField()\n",
    "    answer = dspy.OutputField(desc=\"the answer\") # being naive again"
   ]
  },
  {
   "cell_type": "code",
   "execution_count": 52,
   "id": "d37e274f-38f4-4342-a4c4-426e163d0e2f",
   "metadata": {},
   "outputs": [
    {
     "data": {
      "text/plain": [
       "'Question: what is the capital city of France??\\nAnswer: Paris'"
      ]
     },
     "execution_count": 52,
     "metadata": {},
     "output_type": "execute_result"
    }
   ],
   "source": [
    "pred = qa_bot.forward(\"what is the capital city of France??\")\n",
    "pred.answer"
   ]
  },
  {
   "cell_type": "markdown",
   "id": "56496d38-a874-456f-b82a-92f80bdcadef",
   "metadata": {},
   "source": [
    "**enough of desc**"
   ]
  },
  {
   "cell_type": "code",
   "execution_count": 32,
   "id": "cfb4b79d-7a44-4d3b-a0f5-f0167ca26c71",
   "metadata": {},
   "outputs": [],
   "source": [
    "class BasicQA(dspy.Signature):\n",
    "    question = dspy.InputField()\n",
    "    answer = dspy.OutputField(desc=\"often between 1 and 2 words, or N/A\")"
   ]
  },
  {
   "cell_type": "code",
   "execution_count": 33,
   "id": "65533224-3488-4eed-92f3-b93cbf854353",
   "metadata": {},
   "outputs": [
    {
     "data": {
      "text/plain": [
       "'N/A'"
      ]
     },
     "execution_count": 33,
     "metadata": {},
     "output_type": "execute_result"
    }
   ],
   "source": [
    "qa_bot = BasicQABot()\n",
    "pred = qa_bot.forward(\"what is the capital city of foiadhfioah;fg;hdasof??\")\n",
    "pred.answer"
   ]
  },
  {
   "cell_type": "markdown",
   "id": "d6e8c9e2-305c-41a4-97e2-c20f10e74d5a",
   "metadata": {},
   "source": [
    "**to be fair, above experiments only demonstrate the unpredicable behavior how LLM react to our prompt, it is more about LLM than DSPy**"
   ]
  },
  {
   "cell_type": "code",
   "execution_count": null,
   "id": "f2012ccb-4a81-408a-b41e-ced1b06c3fad",
   "metadata": {},
   "outputs": [],
   "source": []
  }
 ],
 "metadata": {
  "kernelspec": {
   "display_name": "Python 3 (ipykernel)",
   "language": "python",
   "name": "python3"
  },
  "language_info": {
   "codemirror_mode": {
    "name": "ipython",
    "version": 3
   },
   "file_extension": ".py",
   "mimetype": "text/x-python",
   "name": "python",
   "nbconvert_exporter": "python",
   "pygments_lexer": "ipython3",
   "version": "3.11.4"
  }
 },
 "nbformat": 4,
 "nbformat_minor": 5
}
