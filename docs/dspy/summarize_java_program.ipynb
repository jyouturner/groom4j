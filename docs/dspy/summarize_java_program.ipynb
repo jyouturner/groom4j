{
 "cells": [
  {
   "cell_type": "markdown",
   "id": "5f2616bd-6885-491b-8d97-2b000c1cc158",
   "metadata": {},
   "source": [
    "**Our goal is to try using the DSPy to handle the prompting of our file-gist program**"
   ]
  },
  {
   "cell_type": "code",
   "execution_count": 1,
   "id": "1b45f580-8982-4b5c-aff2-92c82d3aad3f",
   "metadata": {},
   "outputs": [
    {
     "name": "stdout",
     "output_type": "stream",
     "text": [
      "\n",
      "\u001b[1m[\u001b[0m\u001b[34;49mnotice\u001b[0m\u001b[1;39;49m]\u001b[0m\u001b[39;49m A new release of pip is available: \u001b[0m\u001b[31;49m23.1.2\u001b[0m\u001b[39;49m -> \u001b[0m\u001b[32;49m24.0\u001b[0m\n",
      "\u001b[1m[\u001b[0m\u001b[34;49mnotice\u001b[0m\u001b[1;39;49m]\u001b[0m\u001b[39;49m To update, run: \u001b[0m\u001b[32;49mpip3 install --upgrade pip\u001b[0m\n"
     ]
    }
   ],
   "source": [
    "!pip3 install --quiet openai python-dotenv dspy-ai"
   ]
  },
  {
   "cell_type": "code",
   "execution_count": 2,
   "id": "f0a4c160-9c52-4a64-b2a2-9889e06a6375",
   "metadata": {},
   "outputs": [
    {
     "data": {
      "text/plain": [
       "'2.3.6'"
      ]
     },
     "execution_count": 2,
     "metadata": {},
     "output_type": "execute_result"
    }
   ],
   "source": [
    "import pkg_resources\n",
    "pkg_resources.get_distribution(\"dspy-ai\").version"
   ]
  },
  {
   "cell_type": "markdown",
   "id": "7fd27ad6-779a-4ac0-bb1e-70785b2ae084",
   "metadata": {},
   "source": [
    "**Use Arize Phoenix for tracing**"
   ]
  },
  {
   "cell_type": "code",
   "execution_count": 3,
   "id": "cb197142-4218-4e33-94c2-fe29d1526675",
   "metadata": {},
   "outputs": [
    {
     "name": "stdout",
     "output_type": "stream",
     "text": [
      "\n",
      "\u001b[1m[\u001b[0m\u001b[34;49mnotice\u001b[0m\u001b[1;39;49m]\u001b[0m\u001b[39;49m A new release of pip is available: \u001b[0m\u001b[31;49m23.1.2\u001b[0m\u001b[39;49m -> \u001b[0m\u001b[32;49m24.0\u001b[0m\n",
      "\u001b[1m[\u001b[0m\u001b[34;49mnotice\u001b[0m\u001b[1;39;49m]\u001b[0m\u001b[39;49m To update, run: \u001b[0m\u001b[32;49mpip3 install --upgrade pip\u001b[0m\n"
     ]
    }
   ],
   "source": [
    "!pip3 install --quiet arize-phoenix openinference-instrumentation-dspy opentelemetry-exporter-otlp"
   ]
  },
  {
   "cell_type": "code",
   "execution_count": null,
   "id": "ebf2b4f1-2224-48df-addb-31daf902f2ed",
   "metadata": {},
   "outputs": [],
   "source": [
    "import phoenix as px\n",
    "px.launch_app()"
   ]
  },
  {
   "cell_type": "code",
   "execution_count": 5,
   "id": "8eb616e8-5b09-4d0e-b08d-64dcbe30f394",
   "metadata": {},
   "outputs": [],
   "source": [
    "from openinference.instrumentation.dspy import DSPyInstrumentor\n",
    "from opentelemetry import trace as trace_api\n",
    "from opentelemetry.exporter.otlp.proto.http.trace_exporter import OTLPSpanExporter\n",
    "from opentelemetry.sdk import trace as trace_sdk\n",
    "from opentelemetry.sdk.resources import Resource\n",
    "from opentelemetry.sdk.trace.export import SimpleSpanProcessor\n",
    "\n",
    "endpoint = \"http://127.0.0.1:6006/v1/traces\"\n",
    "resource = Resource(attributes={})\n",
    "tracer_provider = trace_sdk.TracerProvider(resource=resource)\n",
    "span_otlp_exporter = OTLPSpanExporter(endpoint=endpoint)\n",
    "tracer_provider.add_span_processor(SimpleSpanProcessor(span_exporter=span_otlp_exporter))\n",
    "trace_api.set_tracer_provider(tracer_provider=tracer_provider)\n",
    "DSPyInstrumentor().instrument()"
   ]
  },
  {
   "cell_type": "markdown",
   "id": "b932a7b6-230e-4bb4-81bc-c598d4015906",
   "metadata": {},
   "source": [
    "**Below is the original prompt that we handcraft in our project**"
   ]
  },
  {
   "cell_type": "code",
   "execution_count": 6,
   "id": "02d4b3a5-2ade-4b4b-b804-e7cfe6a423b4",
   "metadata": {},
   "outputs": [],
   "source": [
    "import dspy"
   ]
  },
  {
   "cell_type": "code",
   "execution_count": 7,
   "id": "305d9400-510f-459e-aa85-9ca0b0d5c1b7",
   "metadata": {},
   "outputs": [
    {
     "name": "stdin",
     "output_type": "stream",
     "text": [
      "OpenAI API Key: ········\n"
     ]
    }
   ],
   "source": [
    "import os\n",
    "import getpass\n",
    "os.environ[\"OPENAI_API_KEY\"] = getpass.getpass(\"OpenAI API Key:\")\n",
    "lm = dspy.OpenAI(model=\"gpt-3.5-turbo\", max_tokens=4000)\n",
    "dspy.settings.configure(lm=lm)"
   ]
  },
  {
   "cell_type": "code",
   "execution_count": 9,
   "id": "5304589c-b999-4e9c-a302-b5776fc056aa",
   "metadata": {},
   "outputs": [],
   "source": [
    "# a basic QA interaction with LLM by specifying the input and output (file summary)\n",
    "class BasicQA(dspy.Signature):\n",
    "    code = dspy.InputField(desc=\"source code of the Java program\")\n",
    "    question = dspy.InputField()\n",
    "    summary = dspy.OutputField()\n",
    "    \n",
    "class BasicQABot(dspy.Module):\n",
    "    def __init__(self):\n",
    "        super().__init__()\n",
    "\n",
    "        self.generate = dspy.Predict(BasicQA)\n",
    "\n",
    "    def forward(self, code, question):\n",
    "        prediction = self.generate(code=code, question = question)\n",
    "        return dspy.Prediction(summary = prediction.summary)"
   ]
  },
  {
   "cell_type": "code",
   "execution_count": 10,
   "id": "2a8a87b1-862a-4e5d-8527-c5e26b80ba15",
   "metadata": {},
   "outputs": [],
   "source": [
    "qa_bot = BasicQABot()"
   ]
  },
  {
   "cell_type": "markdown",
   "id": "70effccd-40ea-4211-929f-dc760e3dc342",
   "metadata": {},
   "source": [
    "**A quick test of our QA bot**"
   ]
  },
  {
   "cell_type": "code",
   "execution_count": 12,
   "id": "238f349a-055a-4522-a5a7-cca7217981d7",
   "metadata": {},
   "outputs": [
    {
     "name": "stdout",
     "output_type": "stream",
     "text": [
      "/Users/jyou/Documents/GitHub/read-agent-java/docs/dspy/../../data/travel-service-dev/src/main/java/com/iky/travel/controller/travel/TravelController.java\n"
     ]
    },
    {
     "data": {
      "text/plain": [
       "'This Java program defines a `TravelController` class that handles requests related to travel destinations. It includes methods to retrieve popular destinations, clear popular destinations from Redis cache, and retrieve all destinations. The controller uses a `TravelService` to interact with the data layer.'"
      ]
     },
     "execution_count": 12,
     "metadata": {},
     "output_type": "execute_result"
    }
   ],
   "source": [
    "import os \n",
    "cwd = os.getcwd()\n",
    "# load one java file\n",
    "filename=\"TravelBeApplication.java\"\n",
    "filepath = os.path.join(cwd, \"../../data/travel-service-dev/src/main/java/com/iky/travel/controller/travel/TravelController.java\")\n",
    "print(filepath)\n",
    "with open(filepath, 'r') as file:\n",
    "        code = file.read()\n",
    "pred = qa_bot.forward(code=code, question=\"what is the summary of the Java program?\")\n",
    "pred.summary"
   ]
  },
  {
   "cell_type": "markdown",
   "id": "9c2103d3-b510-4513-bf7c-81f237f5ff31",
   "metadata": {},
   "source": [
    "## Train Prompt?\n",
    "\n",
    "Next, we will create a training set using GPT-4. Basically, the idea is to use the more advanced LLM to create training set, then we can utilize it to train the less expensive model for example GPT-3.5"
   ]
  },
  {
   "cell_type": "markdown",
   "id": "7e6e8153-e456-4058-8af2-459e5792b9c6",
   "metadata": {},
   "source": [
    "## Create Gold Set ##\n",
    "\n",
    "We will scan all the Java files, and summarize them with OpenAI GPT4, argubally the best LLM available now. "
   ]
  },
  {
   "cell_type": "code",
   "execution_count": 80,
   "id": "02555296-0b49-44e7-a077-68fc811f9780",
   "metadata": {},
   "outputs": [],
   "source": [
    "files = []\n",
    "cwd = os.getcwd()\n",
    "folder_path = os.path.join(cwd, \"../../data/travel-service-dev/src/main/java\")\n",
    "for root, dirs, filenames in os.walk(folder_path):\n",
    "    for filename in filenames:\n",
    "        if filename.endswith(\".java\"):\n",
    "            files.append(os.path.join(root, filename))"
   ]
  },
  {
   "cell_type": "code",
   "execution_count": 156,
   "id": "99d09f15-3056-48f4-aedb-ae681c1a6ded",
   "metadata": {},
   "outputs": [],
   "source": [
    "\n",
    "summary_prompt = \"\"\"\n",
    "You are a world class Java developer. You are given a Java program to maintain. You need to read the code and write notes.\n",
    "The notes should be short, concise and to the point.\n",
    "Make sure to include the following points:\n",
    "- The purpose of the code\n",
    "- The functionality of the code\n",
    "- The important classes and methods used in the code\n",
    "\n",
    "Just return the notes. DO NOT explain your reason.\n",
    "\n",
    "{}\n",
    "\"\"\"\n"
   ]
  },
  {
   "cell_type": "code",
   "execution_count": 157,
   "id": "da31ad5b-05ac-476f-96da-0cb25e31afbe",
   "metadata": {},
   "outputs": [],
   "source": [
    "import openai\n",
    "gpt_client = openai.OpenAI()\n",
    "\n",
    "def query_gpt(\n",
    "    prompt: str,\n",
    "    lm: str = 'gpt-4-1106-preview',\n",
    "    temperature: float = 0.0,\n",
    "    max_decode_steps: int = 512,\n",
    "    seconds_to_reset_tokens: float = 30.0,\n",
    ") -> str:\n",
    "  while True:\n",
    "    try:\n",
    "      raw_response = gpt_client.chat.completions.with_raw_response.create(\n",
    "        model=lm,\n",
    "        max_tokens=max_decode_steps,\n",
    "        temperature=temperature,\n",
    "        messages=[\n",
    "          {'role': 'user', 'content': prompt},\n",
    "        ]\n",
    "      )\n",
    "      completion = raw_response.parse()\n",
    "      return completion.choices[0].message.content\n",
    "    except openai.RateLimitError as e:\n",
    "      print(f'{datetime.datetime.now()}: query_gpt_model: RateLimitError {e.message}: {e}')\n",
    "      time.sleep(seconds_to_reset_tokens)\n",
    "    except openai.APIError as e:\n",
    "      print(f'{datetime.datetime.now()}: query_gpt_model: APIError {e.message}: {e}')\n",
    "      print(f'{datetime.datetime.now()}: query_gpt_model: Retrying after 5 seconds...')\n",
    "      time.sleep(5)"
   ]
  },
  {
   "cell_type": "code",
   "execution_count": 158,
   "id": "45d6978d-2981-4e3e-9fbc-2057483c23ec",
   "metadata": {},
   "outputs": [],
   "source": [
    "import time\n",
    "dataset_file = os.path.join(cwd, \"./java_summary_gpt4.txt\")\n",
    "with open(dataset_file, \"a+\") as f:\n",
    "    for filepath in files:\n",
    "        with open(filepath, 'r') as file:        \n",
    "            code = file.read()\n",
    "        # get summary from OpenAI GPT-4\n",
    "        if code is not None:\n",
    "            prompt = summary_prompt.format(code)\n",
    "            summary = query_gpt(prompt)\n",
    "            if summary:\n",
    "                f.write(f\"Path: {filepath}\\n\\nSummary: {summary}\\n\\n\")\n",
    "            # sleep\n",
    "            time.sleep(5)"
   ]
  },
  {
   "cell_type": "markdown",
   "id": "46d1e01d-ac41-485c-a4e1-077302dc7a54",
   "metadata": {},
   "source": [
    "## Load the GPT-4 generated summaries into train-set"
   ]
  },
  {
   "cell_type": "code",
   "execution_count": 13,
   "id": "cecbab4b-bfdd-4062-8a9a-c1e9143fd7dd",
   "metadata": {},
   "outputs": [],
   "source": [
    "dataset = []\n",
    "dataset_file = os.path.join(cwd, \"./java_summary_gpt4.txt\")\n",
    "# Open the file and read line by line\n",
    "with open(dataset_file, \"r\") as f:\n",
    "            lines = f.readlines()\n",
    "            i = 0\n",
    "            while i < len(lines):\n",
    "                if lines[i].startswith(\"Path:\"):\n",
    "                    path = lines[i].split(\":\")[1].strip()\n",
    "                    # summary could be one or multiple lines, read until end of the file or empty line\n",
    "                    # summary line starts with \"Summary:\"\n",
    "                    summary = \"\"\n",
    "                    i += 2\n",
    "                    while i < len(lines) and not lines[i].strip() == \"\":\n",
    "                        # first line remove the \"Summary:\"\n",
    "                        #if lines[i].startswith(\"Summary:\"):\n",
    "                            #summary += lines[i].split(\":\")[1].strip()\n",
    "                        #else:\n",
    "                        summary += lines[i]\n",
    "                        i += 1\n",
    "                    dataset.append((path, summary))\n",
    "                else:\n",
    "                    i += 1"
   ]
  },
  {
   "cell_type": "code",
   "execution_count": 14,
   "id": "207aa6c9-d7ec-4f83-a13e-eb84474680ca",
   "metadata": {},
   "outputs": [
    {
     "data": {
      "text/plain": [
       "('/Users/jyou/Documents/GitHub/read-agent-java/docs/dspy/../../data/travel-service-dev/src/main/java/com/iky/travel/exception/city/CityAlreadyExistsException.java',\n",
       " 'Summary: - Purpose: Define a custom exception to handle scenarios where a city already exists in a given context.\\n- Functionality: Extends `RuntimeException` to create a specific unchecked exception that can be thrown when attempting to add a city that is already present.\\n- Important Classes/Methods:\\n  - `CityAlreadyExistsException`: Custom exception class.\\n  - Constructor `CityAlreadyExistsException(String message)`: Initializes the exception with a custom message.\\n')"
      ]
     },
     "execution_count": 14,
     "metadata": {},
     "output_type": "execute_result"
    }
   ],
   "source": [
    "dataset[-3]"
   ]
  },
  {
   "cell_type": "code",
   "execution_count": 15,
   "id": "42d363c4-1b5e-490c-b63c-edd50332a469",
   "metadata": {},
   "outputs": [],
   "source": [
    "# Calculate the midpoint of the list\n",
    "midpoint = len(dataset) // 2\n",
    "# Split the list into two halves\n",
    "first_half = dataset[:midpoint]\n",
    "second_half = dataset[midpoint:]"
   ]
  },
  {
   "cell_type": "code",
   "execution_count": 20,
   "id": "fc27aa9f-5b08-424b-a164-67b6643c070e",
   "metadata": {},
   "outputs": [],
   "source": [
    "# create train set\n",
    "from dspy import Example\n",
    "exampleset = []\n",
    "for data in first_half:\n",
    "    filepath = data[0]\n",
    "    # Normalize the path to resolve any symbols like '..'\n",
    "    normalized_path = os.path.normpath(filepath)\n",
    "    # Search for the '/src/main/java/' pattern to split the path\n",
    "    base, package_path = normalized_path.split('/src/main/java/')\n",
    "    # Replace os.sep with '/' if you want the package name in traditional Java package format\n",
    "    java_package = package_path.rsplit('/', 1)[0].replace(os.sep, '.')\n",
    "    summary = data[1]\n",
    "    \n",
    "    with open(filepath, 'r') as file:\n",
    "        code = file.read()\n",
    "    example = Example(code=code, question=\"what is the summary of the Java program?\", summary=summary)\n",
    "    exampleset.append(example)\n",
    "trainset = [x.with_inputs(\"code\", \"question\") for x in exampleset]"
   ]
  },
  {
   "cell_type": "code",
   "execution_count": 21,
   "id": "153d024e-d6bb-4755-8aab-b22c6910bb58",
   "metadata": {},
   "outputs": [
    {
     "data": {
      "text/plain": [
       "Example({'code': 'package com.iky.travel.domain.mapper;\\n\\nimport com.iky.travel.domain.dto.CityDTO;\\nimport com.iky.travel.domain.model.City;\\nimport org.mapstruct.Mapper;\\nimport org.mapstruct.factory.Mappers;\\n\\n@Mapper\\npublic interface CityMapper {\\n\\n  CityMapper INSTANCE = Mappers.getMapper(CityMapper.class);\\n\\n\\n  City dtoToCity(CityDTO cityDTO);\\n\\n  CityDTO cityToDto(City city);\\n}', 'question': 'what is the summary of the Java program?', 'summary': 'Summary: - Purpose: The code defines an interface for mapping between City domain model and CityDTO (Data Transfer Object).\\n- Functionality: Provides methods to convert a CityDTO to a City entity and vice versa.\\n- Important Classes/Methods:\\n  - `@Mapper`: Annotation indicating the interface is a MapStruct mapper.\\n  - `CityMapper INSTANCE`: Singleton instance of the mapper created by MapStruct.\\n  - `dtoToCity(CityDTO cityDTO)`: Method to convert CityDTO to City entity.\\n  - `cityToDto(City city)`: Method to convert City entity to CityDTO.\\n'}) (input_keys={'question', 'code'})"
      ]
     },
     "execution_count": 21,
     "metadata": {},
     "output_type": "execute_result"
    }
   ],
   "source": [
    "trainset[-3]"
   ]
  },
  {
   "cell_type": "markdown",
   "id": "ec254214-431b-47b2-999c-41834bbd5dcf",
   "metadata": {},
   "source": [
    "## Create Metrics for evaluation -  compare with the \"gold\" summary generated by GPT-4"
   ]
  },
  {
   "cell_type": "code",
   "execution_count": 22,
   "id": "711c634d-bef7-407d-b606-334183f93483",
   "metadata": {},
   "outputs": [],
   "source": [
    "class AssessSummary(dspy.Signature):\n",
    "    \"\"\"Assess the quality of a given text is similar to the gold one.\"\"\"\n",
    "    gold_text = dspy.InputField()\n",
    "    assessed_text = dspy.InputField()\n",
    "    assessment_question = dspy.InputField()\n",
    "    assessment_answer = dspy.OutputField(desc=\"from 0 to 1\")    \n",
    "\n",
    "def metric(gold, pred, trace=None):\n",
    "    answer, summary = gold.summary, pred.summary\n",
    "    closeness = \"How close is the assessed text close to the gold text, between 0 and 1?\"   \n",
    "    closeEnough = dspy.Predict(AssessSummary)(gold_text=answer, assessed_text=summary, assessment_question=closeness)\n",
    "    print(closeEnough.assessment_answer)\n",
    "    if isinstance(closeEnough.assessment_answer, str):\n",
    "        return float(closeEnough.assessment_answer)\n",
    "    else:\n",
    "        return closeEnough.assessment_answer"
   ]
  },
  {
   "cell_type": "code",
   "execution_count": 23,
   "id": "3cec1a0f-ec3e-4266-a3ff-505d157a5bed",
   "metadata": {},
   "outputs": [
    {
     "name": "stderr",
     "output_type": "stream",
     "text": [
      "  7%|███▏                                        | 1/14 [00:02<00:33,  2.60s/it]"
     ]
    },
    {
     "name": "stdout",
     "output_type": "stream",
     "text": [
      "0.8\n"
     ]
    },
    {
     "name": "stderr",
     "output_type": "stream",
     "text": [
      " 14%|██████▎                                     | 2/14 [00:05<00:32,  2.74s/it]"
     ]
    },
    {
     "name": "stdout",
     "output_type": "stream",
     "text": [
      "0.8\n"
     ]
    },
    {
     "name": "stderr",
     "output_type": "stream",
     "text": [
      " 21%|█████████▍                                  | 3/14 [00:07<00:27,  2.53s/it]"
     ]
    },
    {
     "name": "stdout",
     "output_type": "stream",
     "text": [
      "0.8\n"
     ]
    },
    {
     "name": "stderr",
     "output_type": "stream",
     "text": [
      " 29%|████████████▌                               | 4/14 [00:10<00:26,  2.70s/it]"
     ]
    },
    {
     "name": "stdout",
     "output_type": "stream",
     "text": [
      "0.8\n",
      "Bootstrapped 4 full traces after 5 examples in round 0.\n"
     ]
    },
    {
     "name": "stderr",
     "output_type": "stream",
     "text": [
      "\n"
     ]
    }
   ],
   "source": [
    "from dspy.teleprompt import BootstrapFewShot\n",
    "teleprompter = BootstrapFewShot(metric = metric)\n",
    "compiled_summarizer = teleprompter.compile(student = BasicQABot(), trainset=trainset)"
   ]
  },
  {
   "cell_type": "code",
   "execution_count": 24,
   "id": "30570752-0464-480f-9da4-63cf72195cbb",
   "metadata": {},
   "outputs": [],
   "source": [
    "compiled_summarizer.save(\"trained_java_summarizer_few_shot.json\")"
   ]
  },
  {
   "cell_type": "markdown",
   "id": "8114e9a2-e2eb-4e32-8b53-2a2afaf7bec6",
   "metadata": {},
   "source": [
    "One question though - when we were doing prompts manually above, we were using below prompt:\n",
    "> You are a world class Java developer. You are given a Java program to maintain. You need to read the code and write notes.\n",
    "> The notes should be short, concise and to the point.\n",
    "> Make sure to include the following points:\n",
    "> - The purpose of the code\n",
    "> - The functionality of the code\n",
    "> - The important classes and methods used in the code\n",
    "\n",
    "**Is There Anyway to Get DSPy to Apply Similar Technique?**"
   ]
  },
  {
   "cell_type": "code",
   "execution_count": null,
   "id": "dc2fa3d8-3c21-45d4-a015-a3e4ddf462ea",
   "metadata": {},
   "outputs": [],
   "source": []
  }
 ],
 "metadata": {
  "kernelspec": {
   "display_name": "Python 3 (ipykernel)",
   "language": "python",
   "name": "python3"
  },
  "language_info": {
   "codemirror_mode": {
    "name": "ipython",
    "version": 3
   },
   "file_extension": ".py",
   "mimetype": "text/x-python",
   "name": "python",
   "nbconvert_exporter": "python",
   "pygments_lexer": "ipython3",
   "version": "3.11.4"
  }
 },
 "nbformat": 4,
 "nbformat_minor": 5
}
